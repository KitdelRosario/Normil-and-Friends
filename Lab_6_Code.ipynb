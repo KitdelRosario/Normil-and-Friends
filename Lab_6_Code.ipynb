{
  "nbformat": 4,
  "nbformat_minor": 0,
  "metadata": {
    "colab": {
      "provenance": [],
      "authorship_tag": "ABX9TyMmUz0yAUYrPk3ddVO1la77",
      "include_colab_link": true
    },
    "kernelspec": {
      "name": "python3",
      "display_name": "Python 3"
    },
    "language_info": {
      "name": "python"
    }
  },
  "cells": [
    {
      "cell_type": "markdown",
      "metadata": {
        "id": "view-in-github",
        "colab_type": "text"
      },
      "source": [
        "<a href=\"https://colab.research.google.com/github/KitdelRosario/Normil-and-Friends/blob/main/Lab_6_Code.ipynb\" target=\"_parent\"><img src=\"https://colab.research.google.com/assets/colab-badge.svg\" alt=\"Open In Colab\"/></a>"
      ]
    },
    {
      "cell_type": "code",
      "execution_count": 34,
      "metadata": {
        "colab": {
          "base_uri": "https://localhost:8080/"
        },
        "id": "XPEQ_A8WUqfy",
        "outputId": "31e9d420-f5c8-43ef-eb3f-1853a25f7bb8"
      },
      "outputs": [
        {
          "output_type": "stream",
          "name": "stdout",
          "text": [
            "Number of items: 7\n",
            "\n",
            "Original List\n",
            "1 2 3 4 5 6 7 \n",
            "\n",
            "List after Insert\n",
            "9 1 2 3 4 5 6 7 \n",
            "\n",
            "Reversed List\n",
            "7 6 5 4 3 2 1 9 \n"
          ]
        }
      ],
      "source": [
        "class Node:\n",
        "    def __init__(self, data):\n",
        "        self.data = data\n",
        "        self.prev = None\n",
        "        self.next = None\n",
        "\n",
        "class DoublyLinkedList:\n",
        "    def __init__(self):\n",
        "        self.head = None\n",
        "        self.tail = None\n",
        "        self.count = 0\n",
        "\n",
        "    def append(self,data):\n",
        "        new_node = Node(data)\n",
        "        if self.head is None:\n",
        "            self.head = new_node\n",
        "            self.tail = new_node\n",
        "        else:\n",
        "            self.tail.prev = self.tail\n",
        "            self.tail.next = new_node\n",
        "            self.tail = new_node\n",
        "        self.count += 1\n",
        "\n",
        "    def count_items(self):\n",
        "        return self.count\n",
        "\n",
        "    def insert_front(self, data):\n",
        "        new_node = Node(data)\n",
        "        new_node.next = self.head\n",
        "\n",
        "        if self.head:\n",
        "            self.head.prev = new_node\n",
        "            self.head = new_node\n",
        "\n",
        "        if not self.tail:\n",
        "            self.tail = new_node\n",
        "        self.count += 1\n",
        "\n",
        "    def reverse(self):\n",
        "        current = self.head\n",
        "        prev_node = None\n",
        "\n",
        "        while current:\n",
        "            next_node = current.next\n",
        "\n",
        "            current.next = prev_node\n",
        "            current.prov = next_node\n",
        "\n",
        "            prev_node = current\n",
        "            current = next_node\n",
        "\n",
        "        self.head = prev_node\n",
        "        self.tail = self.head\n",
        "\n",
        "    def print_list(self):\n",
        "        current = self.head\n",
        "        while current:\n",
        "            print(current.data, end=\" \")\n",
        "            current = current.next\n",
        "        print()\n",
        "\n",
        "\n",
        "# Creating a doubly linked list\n",
        "my_list = DoublyLinkedList()\n",
        "\n",
        "# Appending items\n",
        "my_list.append(1)\n",
        "my_list.append(2)\n",
        "my_list.append(3)\n",
        "my_list.append(4)\n",
        "my_list.append(5)\n",
        "my_list.append(6)\n",
        "my_list.append(7)\n",
        "\n",
        "\n",
        "# Counting the number of items\n",
        "print(\"Number of items:\", my_list.count_items())\n",
        "\n",
        "# Inserting a new item in front\n",
        "print(\"\\nOriginal List\")\n",
        "my_list.print_list()\n",
        "print(\"\\nList after Insert\")\n",
        "my_list.insert_front(9)\n",
        "my_list.print_list()\n",
        "\n",
        "# Printing in reverse order\n",
        "print(\"\\nReversed List\")\n",
        "my_list.reverse()\n",
        "my_list.print_list()\n"
      ]
    }
  ]
}