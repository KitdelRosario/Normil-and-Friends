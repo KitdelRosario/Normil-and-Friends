{
  "nbformat": 4,
  "nbformat_minor": 0,
  "metadata": {
    "colab": {
      "provenance": [],
      "authorship_tag": "ABX9TyM3sEhGW2yTBxNxjpVGYGz/",
      "include_colab_link": true
    },
    "kernelspec": {
      "name": "python3",
      "display_name": "Python 3"
    },
    "language_info": {
      "name": "python"
    }
  },
  "cells": [
    {
      "cell_type": "markdown",
      "metadata": {
        "id": "view-in-github",
        "colab_type": "text"
      },
      "source": [
        "<a href=\"https://colab.research.google.com/github/KitdelRosario/Normil-and-Friends/blob/main/laboratory%203%20code.ipynb\" target=\"_parent\"><img src=\"https://colab.research.google.com/assets/colab-badge.svg\" alt=\"Open In Colab\"/></a>"
      ]
    },
    {
      "cell_type": "code",
      "execution_count": 18,
      "metadata": {
        "id": "NbADuLQkonqG",
        "colab": {
          "base_uri": "https://localhost:8080/"
        },
        "outputId": "9605a454-3cda-4ac5-c940-4f00960b0d50"
      },
      "outputs": [
        {
          "output_type": "stream",
          "name": "stdout",
          "text": [
            "The sum of odd test scores: 186\n"
          ]
        }
      ],
      "source": [
        "def EvenTestScores(scores):\n",
        "  total=0\n",
        "  for score in scores:\n",
        "    if score % 2==0:\n",
        "      total+=score\n",
        "  return total\n",
        "\n",
        "Scores = [26,49,98,87,62,75]\n",
        "\n",
        "eventestscores=EvenTestScores(Scores)\n",
        "print(\"The sum of odd test scores:\", eventestscores)"
      ]
    }
  ]
}