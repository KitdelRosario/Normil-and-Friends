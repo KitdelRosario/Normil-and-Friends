{
  "nbformat": 4,
  "nbformat_minor": 0,
  "metadata": {
    "colab": {
      "provenance": [],
      "authorship_tag": "ABX9TyOhjJyoy6sbMp6Lb4MnvMS5",
      "include_colab_link": true
    },
    "kernelspec": {
      "name": "python3",
      "display_name": "Python 3"
    },
    "language_info": {
      "name": "python"
    }
  },
  "cells": [
    {
      "cell_type": "markdown",
      "metadata": {
        "id": "view-in-github",
        "colab_type": "text"
      },
      "source": [
        "<a href=\"https://colab.research.google.com/github/KitdelRosario/Normil-and-Friends/blob/main/Lab_Activity_4_Code.ipynb\" target=\"_parent\"><img src=\"https://colab.research.google.com/assets/colab-badge.svg\" alt=\"Open In Colab\"/></a>"
      ]
    },
    {
      "cell_type": "markdown",
      "source": [
        "A."
      ],
      "metadata": {
        "id": "1e0h-AGzdkEU"
      }
    },
    {
      "cell_type": "code",
      "source": [
        "A = [1, 2, 3, 4, 2, 5]\n",
        "checked = []\n",
        "\n",
        "for num in A:\n",
        "  if num in checked:\n",
        "    result = num\n",
        "    break\n",
        "  checked.append(num)\n",
        "\n",
        "print(\"The repeated integer is: \", result)"
      ],
      "metadata": {
        "colab": {
          "base_uri": "https://localhost:8080/"
        },
        "id": "XZLjp-7ubtW1",
        "outputId": "a06c8886-d36e-45cf-b12e-0fa2d0b08aa5"
      },
      "execution_count": 30,
      "outputs": [
        {
          "output_type": "stream",
          "name": "stdout",
          "text": [
            "The repeated integer is:  2\n"
          ]
        }
      ]
    },
    {
      "cell_type": "markdown",
      "source": [
        "B."
      ],
      "metadata": {
        "id": "kUi-FN_fdm8h"
      }
    },
    {
      "cell_type": "code",
      "execution_count": 18,
      "metadata": {
        "colab": {
          "base_uri": "https://localhost:8080/"
        },
        "id": "ajKPivyLQNbi",
        "outputId": "a84f3538-5624-4509-e8f5-c7c401af7a8d"
      },
      "outputs": [
        {
          "output_type": "stream",
          "name": "stdout",
          "text": [
            "Enter the text you want to decode: cypher \n",
            "Plaintext: cypher \n",
            "Ciphertext: zvmebo \n"
          ]
        }
      ],
      "source": [
        "result = []\n",
        "code = input(\"Enter the text you want to decode: \")\n",
        "\n",
        "for ch in code:\n",
        "    if ch.islower():\n",
        "        ch = chr((ord(ch) - ord('a') - 3 + 26) % 26 + ord('a'))\n",
        "    elif ch.isupper():\n",
        "        ch = chr((ord(ch) - ord('A') - 3 + 26) % 26 + ord('A'))\n",
        "    result.append(ch)\n",
        "\n",
        "result = ''.join(result)\n",
        "\n",
        "print(\"Plaintext: \" + code)\n",
        "print(\"Ciphertext: \" + result)"
      ]
    }
  ]
}