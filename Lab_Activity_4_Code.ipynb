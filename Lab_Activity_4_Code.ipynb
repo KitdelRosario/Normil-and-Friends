{
  "nbformat": 4,
  "nbformat_minor": 0,
  "metadata": {
    "colab": {
      "provenance": [],
      "authorship_tag": "ABX9TyOyBj6xw8JvQYebU7b7F2rD",
      "include_colab_link": true
    },
    "kernelspec": {
      "name": "python3",
      "display_name": "Python 3"
    },
    "language_info": {
      "name": "python"
    }
  },
  "cells": [
    {
      "cell_type": "markdown",
      "metadata": {
        "id": "view-in-github",
        "colab_type": "text"
      },
      "source": [
        "<a href=\"https://colab.research.google.com/github/KitdelRosario/Normil-and-Friends/blob/main/Lab_Activity_4_Code.ipynb\" target=\"_parent\"><img src=\"https://colab.research.google.com/assets/colab-badge.svg\" alt=\"Open In Colab\"/></a>"
      ]
    },
    {
      "cell_type": "code",
      "execution_count": 15,
      "metadata": {
        "colab": {
          "base_uri": "https://localhost:8080/"
        },
        "id": "ajKPivyLQNbi",
        "outputId": "79bfd210-ccdd-40c3-947e-20c31d4c131b"
      },
      "outputs": [
        {
          "output_type": "stream",
          "name": "stdout",
          "text": [
            "Enter the text you want to decode: CYPHER TEST\n",
            "Plaintext: CYPHER TEST\n",
            "Ciphertext: ZVMEBO QBPQ\n"
          ]
        }
      ],
      "source": [
        "result = []\n",
        "code = input(\"Enter the text you want to decode: \")\n",
        "\n",
        "for ch in code:\n",
        "    if ch.islower():\n",
        "        ch = chr((ord(ch) - ord('a') - 3 + 26) % 26 + ord('a'))\n",
        "    elif ch.isupper():\n",
        "        ch = chr((ord(ch) - ord('A') - 3 + 26) % 26 + ord('A'))\n",
        "\n",
        "    result.append(ch)\n",
        "\n",
        "result = ''.join(result)\n",
        "\n",
        "print(\"Plaintext: \" + code)\n",
        "print(\"Ciphertext: \" + result)"
      ]
    }
  ]
}