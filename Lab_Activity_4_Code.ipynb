{
  "nbformat": 4,
  "nbformat_minor": 0,
  "metadata": {
    "colab": {
      "provenance": [],
      "authorship_tag": "ABX9TyMW/eo8vgacsw5bCKHVVDYA",
      "include_colab_link": true
    },
    "kernelspec": {
      "name": "python3",
      "display_name": "Python 3"
    },
    "language_info": {
      "name": "python"
    }
  },
  "cells": [
    {
      "cell_type": "markdown",
      "metadata": {
        "id": "view-in-github",
        "colab_type": "text"
      },
      "source": [
        "<a href=\"https://colab.research.google.com/github/KitdelRosario/Normil-and-Friends/blob/main/Lab_Activity_4_Code.ipynb\" target=\"_parent\"><img src=\"https://colab.research.google.com/assets/colab-badge.svg\" alt=\"Open In Colab\"/></a>"
      ]
    },
    {
      "cell_type": "code",
      "execution_count": null,
      "metadata": {
        "colab": {
          "base_uri": "https://localhost:8080/"
        },
        "id": "ajKPivyLQNbi",
        "outputId": "cf64800d-fb09-4888-ebf1-1aeb4bc37cb4"
      },
      "outputs": [
        {
          "output_type": "stream",
          "name": "stdout",
          "text": [
            "Enter text:Convert to Cypher\n",
            "Plaintext: Convert to Cypher\n",
            "Ciphertext: Zlksboq ql Zvmebo\n"
          ]
        }
      ],
      "source": [
        "result = \"\"\n",
        "code = input(\"Enter text:\")\n",
        "\n",
        "for ch in code:\n",
        "    if ch.islower():\n",
        "        ch = chr((ord(ch) - ord('a') - 3 + 26) % 26 + ord('a'))\n",
        "    elif ch.isupper():\n",
        "        ch = chr((ord(ch) - ord('A') - 3 + 26) % 26 + ord('A'))\n",
        "\n",
        "    result += ch\n",
        "\n",
        "print(\"Plaintext: \" + code)\n",
        "print(\"Ciphertext: \" + result)"
      ]
    }
  ]
}