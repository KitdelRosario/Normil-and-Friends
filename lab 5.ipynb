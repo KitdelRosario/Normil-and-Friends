{
  "nbformat": 4,
  "nbformat_minor": 0,
  "metadata": {
    "colab": {
      "provenance": [],
      "authorship_tag": "ABX9TyOtjHQhD6gzb1Xg8gFDW56z",
      "include_colab_link": true
    },
    "kernelspec": {
      "name": "python3",
      "display_name": "Python 3"
    },
    "language_info": {
      "name": "python"
    }
  },
  "cells": [
    {
      "cell_type": "markdown",
      "metadata": {
        "id": "view-in-github",
        "colab_type": "text"
      },
      "source": [
        "<a href=\"https://colab.research.google.com/github/KitdelRosario/Normil-and-Friends/blob/main/lab%205.ipynb\" target=\"_parent\"><img src=\"https://colab.research.google.com/assets/colab-badge.svg\" alt=\"Open In Colab\"/></a>"
      ]
    },
    {
      "cell_type": "code",
      "execution_count": 38,
      "metadata": {
        "id": "NbADuLQkonqG",
        "colab": {
          "base_uri": "https://localhost:8080/"
        },
        "outputId": "370bd295-cb56-40c0-aaff-a8d4425ae3ac"
      },
      "outputs": [
        {
          "output_type": "stream",
          "name": "stdout",
          "text": [
            "\n",
            "The numbers in the array with their index values are:\n",
            "For Index 0 the number is 1\n",
            "For Index 1 the number is 2\n",
            "For Index 2 the number is 3\n",
            "For Index 3 the number is 4\n",
            "For Index 4 the number is 5\n",
            "For Index 5 the number is 6\n",
            "For Index 6 the number is 7\n",
            "For Index 7 the number is 8\n",
            "For Index 8 the number is 9\n",
            "For Index 9 the number is 10\n",
            "\n",
            "The sum of the 10 integers are: 55\n"
          ]
        }
      ],
      "source": [
        "integers = [1,2,3,4,5,6,7,8,9,10]\n",
        "\n",
        "print(\"\\nThe numbers in the array with their index values are:\")\n",
        "\n",
        "for x in integers:\n",
        "  print(\"For Index\", integers.index(x), \"the number is\", x)\n",
        "\n",
        "total = sum(integers)\n",
        "print(\"\\nThe sum of the 10 integers are:\", total)"
      ]
    },
    {
      "cell_type": "code",
      "source": [
        "numbers = [1,2,3,4,5,6,7,8,9,10]\n",
        "\n",
        "print(\"The numbers in the array are:\",numbers)\n",
        "\n",
        "insert = int(input(\"\\nType a number you want to add in the array:\"))\n",
        "\n",
        "numbers.append(insert)\n",
        "print(\"\\nHere is the new array:\",numbers)"
      ],
      "metadata": {
        "colab": {
          "base_uri": "https://localhost:8080/"
        },
        "id": "0quBPvKcWCNX",
        "outputId": "38956364-fd6f-4c2a-cf55-568a37989ca3"
      },
      "execution_count": 29,
      "outputs": [
        {
          "output_type": "stream",
          "name": "stdout",
          "text": [
            "The numbers in the array are: [1, 2, 3, 4, 5, 6, 7, 8, 9, 10]\n",
            "\n",
            "Type a number you want to add in the array:10\n",
            "\n",
            "Here is the new array: [1, 2, 3, 4, 5, 6, 7, 8, 9, 10, 10]\n"
          ]
        }
      ]
    },
    {
      "cell_type": "code",
      "source": [
        "numbers = [1, 2, 3, 4, 5, 6, 7, 8, 9, 10]\n",
        "\n",
        "print(\"The numbers in the array are:\",numbers)\n",
        "\n",
        "insert = int(input(\"\\nType a number you want to add before the second element the array:\"))\n",
        "\n",
        "numbers.insert(1,insert)\n",
        "\n",
        "print(\"\\nHere is the new array:\",numbers)"
      ],
      "metadata": {
        "colab": {
          "base_uri": "https://localhost:8080/"
        },
        "id": "4dmCy1uMXWBh",
        "outputId": "77dd6d1b-3574-4630-a5f2-5d3aeac037ae"
      },
      "execution_count": 40,
      "outputs": [
        {
          "output_type": "stream",
          "name": "stdout",
          "text": [
            "The numbers in the array are: [1, 2, 3, 4, 5, 6, 7, 8, 9, 10]\n",
            "\n",
            "Type a number you want to add before the second element the array:2\n",
            "\n",
            "Here is the new array: [1, 2, 2, 3, 4, 5, 6, 7, 8, 9, 10]\n"
          ]
        }
      ]
    },
    {
      "cell_type": "code",
      "source": [
        "numbers = [5, 4, 3, 2, 1]\n",
        "\n",
        "print(\"The numbers in the array are:\",numbers)\n",
        "\n",
        "numbers.reverse()\n",
        "\n",
        "print(\"\\nThe numbers in the array when reversed are:\",numbers)"
      ],
      "metadata": {
        "colab": {
          "base_uri": "https://localhost:8080/"
        },
        "id": "_axrTIZrYb79",
        "outputId": "43c9eca3-de12-4f00-e8c0-b6e6b1fb8d88"
      },
      "execution_count": 34,
      "outputs": [
        {
          "output_type": "stream",
          "name": "stdout",
          "text": [
            "The numbers in the array are: [5, 4, 3, 2, 1]\n",
            "\n",
            "The numbers in the array when reversed are: [1, 2, 3, 4, 5]\n"
          ]
        }
      ]
    },
    {
      "cell_type": "code",
      "source": [
        "numbers = [5, 4, 3, 2, 1]\n",
        "\n",
        "print(\"The numbers in the array are:\",numbers)\n",
        "\n",
        "num = len(numbers)\n",
        "print(\"\\nThe length of the array is:\",num)"
      ],
      "metadata": {
        "colab": {
          "base_uri": "https://localhost:8080/"
        },
        "id": "1mnjqfXvY2Xc",
        "outputId": "e91485f8-b612-4e3a-c900-938bd0ae3b9d"
      },
      "execution_count": 37,
      "outputs": [
        {
          "output_type": "stream",
          "name": "stdout",
          "text": [
            "The numbers in the array are: [5, 4, 3, 2, 1]\n",
            "\n",
            "The length of the array is: 5\n"
          ]
        }
      ]
    }
  ]
}