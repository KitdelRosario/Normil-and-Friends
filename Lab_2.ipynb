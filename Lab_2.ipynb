{
  "nbformat": 4,
  "nbformat_minor": 0,
  "metadata": {
    "colab": {
      "provenance": []
    },
    "kernelspec": {
      "name": "python3",
      "display_name": "Python 3"
    },
    "language_info": {
      "name": "python"
    }
  },
  "cells": [
    {
      "cell_type": "code",
      "source": [
        "try:\n",
        "    x = float(input(\"Enter a number: \"))\n",
        "    if x < 0:\n",
        "      x = -x\n",
        "      print(f\"The value of f(x) is: {x}\")\n",
        "    else:\n",
        "      print(f\"Input value: {x}\")\n",
        "\n",
        "except ValueError:\n",
        "    print(\"Invalid input. Please enter a valid number.\")\n",
        "\n",
        "\n",
        "\n"
      ],
      "metadata": {
        "id": "23ABfdcyJCGJ",
        "colab": {
          "base_uri": "https://localhost:8080/"
        },
        "outputId": "35971706-fd3a-4025-b78f-c9421a6b44b5"
      },
      "execution_count": null,
      "outputs": [
        {
          "output_type": "stream",
          "name": "stdout",
          "text": [
            "Enter a number: -3\n",
            "The value of f(x) is: 3.0\n"
          ]
        }
      ]
    },
    {
      "cell_type": "code",
      "source": [
        "sequence = [231, 32, 11, 52, 42, 56, 74, 82, 19]\n",
        "sorted_sequence = sorted(sequence)\n",
        "\n",
        "min_value = sorted_sequence[0] # first value\n",
        "max_value = sorted_sequence[-1] # -1 = last value of the array\n",
        "\n",
        "print(\"Minimum Value:\", min_value)\n",
        "print(\"Maximum Value:\", max_value)"
      ],
      "metadata": {
        "id": "RYofCXF-I-75",
        "colab": {
          "base_uri": "https://localhost:8080/"
        },
        "outputId": "1a273e5b-139d-41f2-d65c-027199bf4c8c"
      },
      "execution_count": null,
      "outputs": [
        {
          "output_type": "stream",
          "name": "stdout",
          "text": [
            "Minimum Value: 11\n",
            "Maximum Value: 231\n"
          ]
        }
      ]
    }
  ]
}