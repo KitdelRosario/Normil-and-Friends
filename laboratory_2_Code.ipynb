{
  "nbformat": 4,
  "nbformat_minor": 0,
  "metadata": {
    "colab": {
      "provenance": [],
      "authorship_tag": "ABX9TyMKKihKdsJpegmDA/Ub80Cg",
      "include_colab_link": true
    },
    "kernelspec": {
      "name": "python3",
      "display_name": "Python 3"
    },
    "language_info": {
      "name": "python"
    }
  },
  "cells": [
    {
      "cell_type": "markdown",
      "metadata": {
        "id": "view-in-github",
        "colab_type": "text"
      },
      "source": [
        "<a href=\"https://colab.research.google.com/github/KitdelRosario/Normil-and-Friends/blob/main/laboratory_2_Code.ipynb\" target=\"_parent\"><img src=\"https://colab.research.google.com/assets/colab-badge.svg\" alt=\"Open In Colab\"/></a>"
      ]
    },
    {
      "cell_type": "code",
      "source": [
        "\n",
        "try:\n",
        "    x = float(input(\"Enter a number: \"))\n",
        "    if x < 0:\n",
        "      x = -x\n",
        "      print(f\"The value of f(x) is: {x}\")\n",
        "    else:\n",
        "      print(f\"Input value: {x}\")\n",
        "\n",
        "except ValueError:\n",
        "    print(\"Invalid input. Please enter a valid number.\")\n",
        "\n",
        "\n"
      ],
      "metadata": {
        "id": "H2YB8oGOUX21"
      },
      "execution_count": null,
      "outputs": []
    },
    {
      "cell_type": "code",
      "execution_count": null,
      "metadata": {
        "id": "cJS7XLYSFghH"
      },
      "outputs": [],
      "source": [
        "def min_max(sequence, index=0, min_val=None, max_val=None):\n",
        "\n",
        "    if index == 0:\n",
        "        min_val = max_val = sequence[0]\n",
        "\n",
        "    if index == len(sequence):\n",
        "        return min_val, max_val\n",
        "\n",
        "    current_value = sequence[index]\n",
        "    min_val = min(min_val, current_value)\n",
        "    max_val = max(max_val, current_value)\n",
        "\n",
        "    return min_max(sequence, index + 1, min_val, max_val)\n",
        "\n",
        "sequence = [3, 1, 5, 7, 2, 9]\n",
        "\n",
        "min_value, max_value = min_max(sequence)\n",
        "\n",
        "print(f\"Minimum value: {min_value}\")\n",
        "print(f\"Maximum value: {max_value}\")"
      ]
    }
  ]
}