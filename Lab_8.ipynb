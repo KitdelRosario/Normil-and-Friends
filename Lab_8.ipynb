{
  "nbformat": 4,
  "nbformat_minor": 0,
  "metadata": {
    "colab": {
      "provenance": [],
      "authorship_tag": "ABX9TyOO4bt7gOB+YGEzKZpwK+F5",
      "include_colab_link": true
    },
    "kernelspec": {
      "name": "python3",
      "display_name": "Python 3"
    },
    "language_info": {
      "name": "python"
    }
  },
  "cells": [
    {
      "cell_type": "markdown",
      "metadata": {
        "id": "view-in-github",
        "colab_type": "text"
      },
      "source": [
        "<a href=\"https://colab.research.google.com/github/KitdelRosario/Normil-and-Friends/blob/main/Lab_8.ipynb\" target=\"_parent\"><img src=\"https://colab.research.google.com/assets/colab-badge.svg\" alt=\"Open In Colab\"/></a>"
      ]
    },
    {
      "cell_type": "code",
      "execution_count": 9,
      "metadata": {
        "colab": {
          "base_uri": "https://localhost:8080/"
        },
        "id": "ML7VdI9ajvhl",
        "outputId": "8c07116d-1295-404e-f90e-1b9fa24a6c9f"
      },
      "outputs": [
        {
          "output_type": "stream",
          "name": "stdout",
          "text": [
            "Enqueued Element: 1\n",
            "Enqueued Element: 2\n",
            "Enqueued Element: 3\n",
            "Enqueued Element: 4\n",
            "Enqueued Element: 5\n",
            "The elements in the queue are:['1', '2', '3', '4', '5']\n",
            "The elements in the queue after dequeue are:['2', '3', '4', '5']\n",
            "The elements in the queue after dequeue are:['3', '4', '5']\n",
            "The elements in the queue after dequeue are:['4', '5']\n",
            "The elements in the queue after dequeue are:['5']\n",
            "The elements in the queue after dequeue are:[]\n",
            "The queue is empty\n"
          ]
        }
      ],
      "source": [
        "def create_queue():\n",
        "  queue = []\n",
        "  return queue\n",
        "\n",
        "def is_empty(queue):\n",
        "   return len(queue) == 0\n",
        "\n",
        "def enqueue(queue, item):\n",
        "  queue.append(item)\n",
        "  print(\"Enqueued Element: \" + item)\n",
        "\n",
        "def dequeue(queue):\n",
        "   if (is_empty(queue)):\n",
        "     print(\"The queue is empty\")\n",
        "   else:\n",
        "    queue.pop(0)\n",
        "    print(\"The elements in the queue after dequeue are:\"+ str(queue))\n",
        "\n",
        "queue = create_queue()\n",
        "enqueue(queue, str(1))\n",
        "enqueue(queue, str(2))\n",
        "enqueue(queue, str(3))\n",
        "enqueue(queue, str(4))\n",
        "enqueue(queue, str(5))\n",
        "print(\"The elements in the queue are:\"+ str(queue))\n",
        "\n",
        "while not is_empty(queue):\n",
        "  dequeue(queue)\n",
        "dequeue(queue)\n",
        "\n",
        "\n"
      ]
    }
  ]
}