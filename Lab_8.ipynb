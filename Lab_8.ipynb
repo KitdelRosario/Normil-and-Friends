{
  "nbformat": 4,
  "nbformat_minor": 0,
  "metadata": {
    "colab": {
      "provenance": [],
      "authorship_tag": "ABX9TyON5xP0B3aADvJm2H6ZYQ5C",
      "include_colab_link": true
    },
    "kernelspec": {
      "name": "python3",
      "display_name": "Python 3"
    },
    "language_info": {
      "name": "python"
    }
  },
  "cells": [
    {
      "cell_type": "markdown",
      "metadata": {
        "id": "view-in-github",
        "colab_type": "text"
      },
      "source": [
        "<a href=\"https://colab.research.google.com/github/KitdelRosario/Normil-and-Friends/blob/main/Lab_8.ipynb\" target=\"_parent\"><img src=\"https://colab.research.google.com/assets/colab-badge.svg\" alt=\"Open In Colab\"/></a>"
      ]
    },
    {
      "cell_type": "code",
      "execution_count": 3,
      "metadata": {
        "colab": {
          "base_uri": "https://localhost:8080/"
        },
        "id": "3uG5vwGDjetF",
        "outputId": "6d285def-8e75-423a-9cd3-e0d81dc6074e"
      },
      "outputs": [
        {
          "output_type": "stream",
          "name": "stdout",
          "text": [
            "Enqueued Element: 1\n",
            "Enqueued Element: 2\n",
            "Enqueued Element: 3\n",
            "Enqueued Element: 4\n",
            "Enqueued Element: 5\n",
            "The elements in the queue are:['1', '2', '3', '4', '5']\n",
            "The elements in the queue after dequeue are:['2', '3', '4', '5']\n",
            "The elements in the queue after dequeue are:['3', '4', '5']\n",
            "The elements in the queue after dequeue are:['4', '5']\n",
            "The elements in the queue after dequeue are:['5']\n",
            "The elements in the queue after dequeue are:[]\n",
            "The queue is empty\n"
          ]
        }
      ],
      "source": [
        "def create_queue():\n",
        "   queue = []\n",
        "   return queue\n",
        "\n",
        "\n",
        "\n",
        "def is_empty(queue):\n",
        "\n",
        "   return len(queue) == 0\n",
        "\n",
        "\n",
        "\n",
        "def enqueue(queue, item):\n",
        "\n",
        "    queue.append(item)\n",
        "\n",
        "    print(\"Enqueued Element: \" + item)\n",
        "\n",
        "\n",
        "\n",
        "def dequeue(queue):\n",
        "\n",
        "   if (is_empty(queue)):\n",
        "\n",
        "     print(\"The queue is empty\")\n",
        "\n",
        "   else:\n",
        "\n",
        "    queue.pop(0)\n",
        "\n",
        "    print(\"The elements in the queue after dequeue are:\"+ str(queue))\n",
        "\n",
        "\n",
        "\n",
        "queue = create_queue()\n",
        "\n",
        "enqueue(queue, str(1))\n",
        "\n",
        "enqueue(queue, str(2))\n",
        "\n",
        "enqueue(queue, str(3))\n",
        "\n",
        "enqueue(queue, str(4))\n",
        "\n",
        "enqueue(queue, str(5))\n",
        "\n",
        "\n",
        "\n",
        "print(\"The elements in the queue are:\"+ str(queue))\n",
        "\n",
        "\n",
        "dequeue(queue)\n",
        "dequeue(queue)\n",
        "dequeue(queue)\n",
        "dequeue(queue)\n",
        "dequeue(queue)\n",
        "dequeue(queue)"
      ]
    }
  ]
}