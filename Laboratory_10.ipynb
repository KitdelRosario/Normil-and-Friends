{
  "nbformat": 4,
  "nbformat_minor": 0,
  "metadata": {
    "colab": {
      "provenance": [],
      "authorship_tag": "ABX9TyMrD327NTCPT14VQcsb8W8G",
      "include_colab_link": true
    },
    "kernelspec": {
      "name": "python3",
      "display_name": "Python 3"
    },
    "language_info": {
      "name": "python"
    }
  },
  "cells": [
    {
      "cell_type": "markdown",
      "metadata": {
        "id": "view-in-github",
        "colab_type": "text"
      },
      "source": [
        "<a href=\"https://colab.research.google.com/github/KitdelRosario/Normil-and-Friends/blob/main/Laboratory_10.ipynb\" target=\"_parent\"><img src=\"https://colab.research.google.com/assets/colab-badge.svg\" alt=\"Open In Colab\"/></a>"
      ]
    },
    {
      "cell_type": "code",
      "execution_count": 1,
      "metadata": {
        "id": "NbADuLQkonqG",
        "colab": {
          "base_uri": "https://localhost:8080/"
        },
        "outputId": "0cbe76a5-eee8-47d3-b2fb-ce05c403c012"
      },
      "outputs": [
        {
          "output_type": "stream",
          "name": "stdout",
          "text": [
            "Node 1 pre-order: 1 in-order: 4 post-order: 5\n",
            "Node 2 pre-order: 2 in-order: 2 post-order: 3\n",
            "Node 4 pre-order: 3 in-order: 1 post-order: 1\n",
            "Node 5 pre-order: 4 in-order: 3 post-order: 2\n",
            "Node 3 pre-order: 5 in-order: 5 post-order: 4\n"
          ]
        }
      ],
      "source": [
        "class Node:\n",
        "    def __init__(self, data):\n",
        "        self.left = None\n",
        "        self.right = None\n",
        "        self.data = data\n",
        "        self.pre_order_number = 0\n",
        "        self.in_order_number = 0\n",
        "        self.post_order_number = 0\n",
        "\n",
        "class BinaryTree:\n",
        "    def __init__(self, data):\n",
        "        self.root = Node(data)\n",
        "\n",
        "class PrePostInOrderTree(BinaryTree):\n",
        "    def __init__(self, data):\n",
        "        self.root = Node(data)\n",
        "        self.pre_order_number = 1\n",
        "        self.in_order_number = 1\n",
        "        self.post_order_number = 1\n",
        "\n",
        "    def preOrderNumber(self, node):\n",
        "        if node is not None:\n",
        "            node.pre_order_number = self.pre_order_number\n",
        "            self.pre_order_number += 1\n",
        "            self.preOrderNumber(node.left)\n",
        "            self.preOrderNumber(node.right)\n",
        "\n",
        "    def inOrderNumber(self, node):\n",
        "        if node is not None:\n",
        "            self.inOrderNumber(node.left)\n",
        "            node.in_order_number = self.in_order_number\n",
        "            self.in_order_number += 1\n",
        "            self.inOrderNumber(node.right)\n",
        "\n",
        "    def postOrderNumber(self, node):\n",
        "        if node is not None:\n",
        "            self.postOrderNumber(node.left)\n",
        "            self.postOrderNumber(node.right)\n",
        "            node.post_order_number = self.post_order_number\n",
        "            self.post_order_number += 1\n",
        "\n",
        "def printTree(node):\n",
        "    if node is not None:\n",
        "        print(\"Node\", node.data, \"pre-order:\", node.pre_order_number, \"in-order:\", node.in_order_number, \"post-order:\", node.post_order_number)\n",
        "        printTree(node.left)\n",
        "        printTree(node.right)\n",
        "\n",
        "tree = PrePostInOrderTree(1)\n",
        "tree.root.left = Node(2)\n",
        "tree.root.right = Node(3)\n",
        "tree.root.left.left = Node(4)\n",
        "tree.root.left.right = Node(5)\n",
        "\n",
        "tree.preOrderNumber(tree.root)\n",
        "tree.inOrderNumber(tree.root)\n",
        "tree.postOrderNumber(tree.root)\n",
        "\n",
        "printTree(tree.root)"
      ]
    }
  ]
}